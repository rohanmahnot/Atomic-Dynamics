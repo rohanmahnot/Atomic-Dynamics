{
 "cells": [
  {
   "cell_type": "code",
   "execution_count": 1,
   "metadata": {},
   "outputs": [],
   "source": [
    "import pylab\n",
    "import numpy as np\n",
    "import random\n",
    "from matplotlib import pyplot as plt\n",
    "from tqdm import tqdm\n",
    "plt.ioff()"
   ]
  },
  {
   "cell_type": "code",
   "execution_count": 2,
   "metadata": {},
   "outputs": [],
   "source": [
    "# Function to generate an image of the atomic configuration in the box.\n",
    "def create_picture(positions):\n",
    "    plt.figure(figsize=[5,5])\n",
    "    pylab.cla()\n",
    "    pylab.axis([0, L, 0, L])\n",
    "    pylab.setp(pylab.gca(), xticks=[0, L], yticks=[0, L])\n",
    "    for x,y in positions:\n",
    "        atom = pylab.Circle((x, y), Ratom, fc='r')\n",
    "        plt.gca().add_patch(atom)"
   ]
  },
  {
   "cell_type": "code",
   "execution_count": 3,
   "metadata": {},
   "outputs": [],
   "source": [
    "# Function to calculate time it takes for a pair of atoms to collide. \n",
    "def pair_time(pos1, vel1, pos2, vel2, rad):  \n",
    "    rel_pos = pos2 - pos1\n",
    "    rel_vel = vel2 - vel1\n",
    "    rel_dist_squar = np.dot(rel_pos,rel_pos)\n",
    "    rel_speed_squar = np.dot(rel_vel,rel_vel)\n",
    "    scal_prod = np.dot(rel_pos,rel_vel)\n",
    "    a = scal_prod ** 2 - rel_speed_squar * ( rel_dist_squar - 4.0 * rad **2)\n",
    "    if a > 0.0 and scal_prod < 0.0: ## Conditions for collision.\n",
    "        del_t = - (scal_prod + np.sqrt(a)) / rel_speed_squar ## Collision time.\n",
    "    else:\n",
    "        del_t = float('inf')\n",
    "    return del_t\n",
    "\n",
    "# Function to compute time for wall collision\n",
    "def wall_time(coord, velcomp, rad):  \n",
    "    if velcomp > 0.0:\n",
    "        del_t = (L - rad - coord) / velcomp\n",
    "    elif velcomp < 0.0:\n",
    "        del_t = (coord - rad) / abs(velcomp)\n",
    "    else:\n",
    "        del_t = float('inf')\n",
    "    return del_t"
   ]
  },
  {
   "cell_type": "code",
   "execution_count": 4,
   "metadata": {},
   "outputs": [],
   "source": [
    "# Function to randomly generate atomic positions   \n",
    "\n",
    "def randomgen(n,r):\n",
    "    while True:\n",
    "        pairs = [[i,j] for i in range(Natoms) for j in range(i+1, Natoms)] \n",
    "        pos = np.zeros([n,2],float)\n",
    "        for i in range(n):\n",
    "            for j in range(2):\n",
    "                pos[i,j]=round(random.uniform(r,L-r),2)\n",
    "        \n",
    "        pair_dist = [np.linalg.norm(pos[j]-pos[i]) for i,j in pairs] \n",
    "        if all(ele > 2*r for ele in pair_dist): # checks if any atom is overlapping another atom\n",
    "            break\n",
    "    return pos\n",
    "\n",
    "# Function to generate atomic positions in a pattern  \n",
    "\n",
    "def patterngen(n,r):\n",
    "    pos=np.zeros([n,2],float)\n",
    "\n",
    "    startx=2*r\n",
    "    starty=2*r\n",
    "    pos[0,:]=[startx,starty]\n",
    "\n",
    "    for i in range(n-1):\n",
    "        startx+=(L-4*r)/(np.floor(np.sqrt(n))+1)\n",
    "\n",
    "        if startx>(L-2*r):\n",
    "            startx=2*r\n",
    "            starty+=(L-4*r)/(np.floor(np.sqrt(n))+1)\n",
    "\n",
    "        pos[i+1,:]=[startx,starty]\n",
    "    return pos"
   ]
  },
  {
   "cell_type": "code",
   "execution_count": 5,
   "metadata": {},
   "outputs": [
    {
     "data": {
      "text/plain": [
       "<Figure size 432x288 with 0 Axes>"
      ]
     },
     "metadata": {},
     "output_type": "display_data"
    },
    {
     "data": {
      "image/png": "[encoded data removed]",
      "text/plain": [
       "<Figure size 360x360 with 1 Axes>"
      ]
     },
     "metadata": {
      "needs_background": "light"
     },
     "output_type": "display_data"
    }
   ],
   "source": [
    "# Initialization of box\n",
    "\n",
    "L = 1 ## Box edge length\n",
    "Natoms = 50 #Number of atoms\n",
    "density = 0.05 # Fraction of area of box occupied by the atoms\n",
    "Ratom = np.sqrt(density*L**2/(Natoms*np.pi))   ## Radius of an atom.\n",
    "\n",
    "# Initial Position of the atoms\n",
    "\n",
    "pos = randomgen(Natoms,Ratom)\n",
    "\n",
    "# Snapshot of initial position\n",
    "\n",
    "plt.clf()\n",
    "create_picture(np.array(pos))\n",
    "plt.show()"
   ]
  },
  {
   "cell_type": "code",
   "execution_count": 6,
   "metadata": {},
   "outputs": [],
   "source": [
    "# Initial velocities of atoms\n",
    "\n",
    "vel=np.zeros([Natoms,2],float)\n",
    "mean=0.0\n",
    "sigma=1.0\n",
    "vel[:,0]=np.random.normal(mean,sigma,Natoms)\n",
    "vel[:,1]=np.random.normal(mean,sigma,Natoms)\n",
    "cm_momentum=sum(vel)/Natoms\n",
    "vel=vel-cm_momentum"
   ]
  },
  {
   "cell_type": "code",
   "execution_count": 7,
   "metadata": {},
   "outputs": [],
   "source": [
    "t = 0.0 # Initial time.\n",
    "n_events = 100000 # Number of collision events.\n",
    "\n",
    "## List indexing all pairs of atoms.\n",
    "pairs = [[i,j] for i in range(Natoms) for j in range(i+1, Natoms)] \n",
    "\n",
    "# Creating arrays for vectors\n",
    "positions=np.array(pos)\n",
    "velocities=np.array(vel)\n",
    "\n",
    "v_list = []"
   ]
  },
  {
   "cell_type": "code",
   "execution_count": null,
   "metadata": {},
   "outputs": [],
   "source": [
    "# Event Loop ~ 20 mins\n",
    "\n",
    "for event in tqdm(range(n_events)):\n",
    "    # Wall collision times for all atoms and their velocity components.\n",
    "    wall_times = [wall_time(positions[i][j], velocities[i][j], Ratom) for i in range(Natoms) for j in range(2)] \n",
    "    # Pair collision times\n",
    "    pair_times = [pair_time(positions[i], velocities[i], positions[j], velocities[j], Ratom) for i,j in pairs] \n",
    "    # The next collision event is the minimum of wall and pair collision times.\n",
    "    next_event = min(wall_times + pair_times)  \n",
    "    t += next_event \n",
    "    positions += velocities*next_event # Evolve positions to collision event\n",
    "    \n",
    "    if min(wall_times) < min(pair_times): # Check if next event is a collision with a wall\n",
    "        wall_index = wall_times.index(next_event)\n",
    "        particle, component = int(wall_index/2), int(wall_index%2)\n",
    "        velocities[particle][component] *= -1.0 ## Velocity component normal to wall changes sign\n",
    "    else:\n",
    "        pair_index = pair_times.index(next_event)\n",
    "        particle_1, particle_2 = pairs[pair_index] # Indices of atoms participating in collision.\n",
    "        rel_pos = positions[particle_2] - positions[particle_1]\n",
    "        rel_vel = velocities[particle_2] - velocities[particle_1]\n",
    "        distance = np.sqrt(np.dot(rel_pos,rel_pos))\n",
    "        unit_perp = rel_pos/distance\n",
    "        scal_prod = np.dot(rel_vel,unit_perp)\n",
    "        velocities[particle_1] += scal_prod*unit_perp # Change in velocities of atoms colliding with each other\n",
    "        velocities[particle_2] -= scal_prod*unit_perp\n",
    "\n",
    "    for v in velocities:\n",
    "        v_list.append(np.linalg.norm(v))"
   ]
  },
  {
   "cell_type": "code",
   "execution_count": null,
   "metadata": {},
   "outputs": [],
   "source": [
    "### Function to plot Velocity Distribution\n",
    "def vel_hist(v_list):\n",
    "    N, bins, patches = plt.hist(x=v_list, bins='auto', alpha=0.85)\n",
    "    plt.grid(axis='y', alpha=0.5)\n",
    "    plt.xlabel('Velocity')\n",
    "    plt.ylabel('Frequency')\n",
    "    plt.title('Velocity Distribution')\n",
    "    maxfreq = N.max()\n",
    "    # Set a clean upper y-axis limit.\n",
    "    plt.ylim(ymax=np.ceil(maxfreq / 10) * 10 if maxfreq % 10 else maxfreq + 10)"
   ]
  },
  {
   "cell_type": "code",
   "execution_count": null,
   "metadata": {},
   "outputs": [],
   "source": [
    "vel_hist(v_list)"
   ]
  }
 ],
 "metadata": {
  "kernelspec": {
   "display_name": "Python 3",
   "language": "python",
   "name": "python3"
  },
  "language_info": {
   "codemirror_mode": {
    "name": "ipython",
    "version": 3
   },
   "file_extension": ".py",
   "mimetype": "text/x-python",
   "name": "python",
   "nbconvert_exporter": "python",
   "pygments_lexer": "ipython3",
   "version": "3.7.4"
  }
 },
 "nbformat": 4,
 "nbformat_minor": 4
}
